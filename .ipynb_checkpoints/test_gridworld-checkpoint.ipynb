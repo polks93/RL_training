{
 "cells": [
  {
   "cell_type": "code",
   "execution_count": 6,
   "id": "a4c16fdc-1280-48f0-a906-a6bdb605e2ee",
   "metadata": {},
   "outputs": [],
   "source": [
    "import gymnasium as gym\n",
    "import gridworld  \n",
    "from gymnasium import envs"
   ]
  },
  {
   "cell_type": "code",
   "execution_count": 7,
   "id": "ee3af4a9-f83b-470d-8982-e73cc1aeb10c",
   "metadata": {},
   "outputs": [
    {
     "name": "stdout",
     "output_type": "stream",
     "text": [
      "Total reward: -3\n"
     ]
    }
   ],
   "source": [
    "#  Generazione classe nev\n",
    "env = gym.make('GridWorld-v0', render_mode=\"human\", random_goal_and_start=False)\n",
    "\n",
    "#  Init dell'amnbiente\n",
    "observation, info = env.reset()\n",
    "N = 1000\n",
    "cum_reward = 0\n",
    "\n",
    "# Esecuzione di N step\n",
    "for _ in range(N):\n",
    "    # Azione generata in modo casuale\n",
    "    action = env.action_space.sample()  \n",
    "\n",
    "    # Esecuzione dell'azione nell'env\n",
    "    observation, reward, terminated, truncated, info = env.step(action)\n",
    "    cum_reward += reward\n",
    "    # Criterio di arresto\n",
    "    if terminated or truncated:\n",
    "        # Esco dal ciclo\n",
    "        break\n",
    "\n",
    "print(\"Total reward: %d\" % cum_reward)\n",
    "#  Chiusura env\n",
    "env.close()\n"
   ]
  },
  {
   "cell_type": "code",
   "execution_count": null,
   "id": "e4554430-3b19-4b48-b979-0600034e172e",
   "metadata": {},
   "outputs": [],
   "source": []
  }
 ],
 "metadata": {
  "kernelspec": {
   "display_name": "Python 3 (ipykernel)",
   "language": "python",
   "name": "python3"
  },
  "language_info": {
   "codemirror_mode": {
    "name": "ipython",
    "version": 3
   },
   "file_extension": ".py",
   "mimetype": "text/x-python",
   "name": "python",
   "nbconvert_exporter": "python",
   "pygments_lexer": "ipython3",
   "version": "3.12.4"
  }
 },
 "nbformat": 4,
 "nbformat_minor": 5
}
