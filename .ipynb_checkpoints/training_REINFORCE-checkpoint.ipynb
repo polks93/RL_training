{
 "cells": [
  {
   "cell_type": "code",
   "execution_count": 1,
   "id": "e78576e1-83a7-44e3-a954-18b4e026db98",
   "metadata": {},
   "outputs": [],
   "source": [
    "from __future__ import annotations\n",
    "\n",
    "import random\n",
    "\n",
    "import matplotlib.pyplot as plt\n",
    "import numpy as np\n",
    "import pandas as pd\n",
    "import seaborn as sns\n",
    "import torch\n",
    "from my_agents import REINFORCE\n",
    "import gymnasium as gym"
   ]
  },
  {
   "cell_type": "code",
   "execution_count": 4,
   "id": "b3181fec-c235-481d-8f1b-7bc9aec67776",
   "metadata": {},
   "outputs": [
    {
     "name": "stdout",
     "output_type": "stream",
     "text": [
      "Episode: 0 Average Reward: 8\n",
      "Episode: 100 Average Reward: 12\n",
      "Episode: 200 Average Reward: 13\n",
      "Episode: 300 Average Reward: 14\n",
      "Episode: 400 Average Reward: 15\n",
      "Episode: 0 Average Reward: 17\n",
      "Episode: 100 Average Reward: 12\n",
      "Episode: 200 Average Reward: 10\n",
      "Episode: 300 Average Reward: 13\n",
      "Episode: 400 Average Reward: 13\n",
      "Episode: 0 Average Reward: 12\n",
      "Episode: 100 Average Reward: 9\n",
      "Episode: 200 Average Reward: 9\n",
      "Episode: 300 Average Reward: 11\n",
      "Episode: 400 Average Reward: 11\n",
      "Episode: 0 Average Reward: 13\n",
      "Episode: 100 Average Reward: 9\n",
      "Episode: 200 Average Reward: 10\n",
      "Episode: 300 Average Reward: 11\n",
      "Episode: 400 Average Reward: 11\n",
      "Episode: 0 Average Reward: 12\n",
      "Episode: 100 Average Reward: 9\n",
      "Episode: 200 Average Reward: 10\n",
      "Episode: 300 Average Reward: 9\n",
      "Episode: 400 Average Reward: 9\n"
     ]
    }
   ],
   "source": [
    "#  Genero env\n",
    "env = gym.make(\"InvertedPendulum-v4\")\n",
    "\n",
    "# Salvo i dati di 50 episodi\n",
    "wrapped_env = gym.wrappers.RecordEpisodeStatistics(env, 50) \n",
    "\n",
    "total_num_episodes = int(5e2) # Numero totale di episodi\n",
    "\n",
    "# Dimensione spazio delle osservazioni e spazio delle azioni\n",
    "obs_space_dims = env.observation_space.shape[0]\n",
    "action_space_dims = env.action_space.shape[0]\n",
    "\n",
    "# Init reward dei vari seeds\n",
    "rewards_over_seeds = []\n",
    "\n",
    "for seed in [1, 2, 3, 5, 8]:\n",
    "    # Imposto lo stesso seed per i generatori di numeri casuali\n",
    "    # in torch, random e numpy x avere ripetibilitá \n",
    "    torch.manual_seed(seed)\n",
    "    random.seed(seed)\n",
    "    np.random.seed(seed)\n",
    "\n",
    "    # Init agente\n",
    "    agent = REINFORCE(obs_space_dims, action_space_dims)\n",
    "\n",
    "    # Init reward degli episodi nello stesso seed\n",
    "    reward_over_episodes = []\n",
    "\n",
    "    for episode in range(total_num_episodes):\n",
    "\n",
    "        # Reset ambiente con il seed corrente\n",
    "        obs, info = wrapped_env.reset(seed=seed)\n",
    "        done = False\n",
    "\n",
    "        while not done:\n",
    "            # Campiono azione\n",
    "            action = agent.sample_action(obs)\n",
    "\n",
    "            # Eseguo azione\n",
    "            obs, reward, terminated, truncated, info = wrapped_env.step(action)\n",
    "            \n",
    "            # Salvo la reward nella classe agent\n",
    "            agent.rewards.append(reward)\n",
    "            \n",
    "            done = terminated or truncated\n",
    "\n",
    "        # Salvo l'ultimo elemento di wrapped_env.return_queue, ovvero il ritorno totale dell'episodio piu recente\n",
    "        reward_over_episodes.append(wrapped_env.return_queue[-1])\n",
    "\n",
    "        # Update agente alla fine dell'episodio\n",
    "        agent.update()\n",
    "\n",
    "        # Ogni 1000 episodi mostro la reward media \n",
    "        if episode % 100 == 0:\n",
    "            avg_reward = int(np.mean(wrapped_env.return_queue))\n",
    "            print(\"Episode:\", episode, \"Average Reward:\", avg_reward)\n",
    "\n",
    "    # Finit gli episodi di un seed, salvo le reward in rewards_over_seeds\n",
    "    rewards_over_seeds.append(reward_over_episodes)\n"
   ]
  },
  {
   "cell_type": "code",
   "execution_count": 1,
   "id": "38d0c27c-8a86-4689-ba89-0b5da46d76f9",
   "metadata": {},
   "outputs": [
    {
     "ename": "NameError",
     "evalue": "name 'rewards_over_seeds' is not defined",
     "output_type": "error",
     "traceback": [
      "\u001b[1;31m---------------------------------------------------------------------------\u001b[0m",
      "\u001b[1;31mNameError\u001b[0m                                 Traceback (most recent call last)",
      "Cell \u001b[1;32mIn[1], line 1\u001b[0m\n\u001b[1;32m----> 1\u001b[0m rewards_to_plot \u001b[38;5;241m=\u001b[39m [[reward[\u001b[38;5;241m0\u001b[39m] \u001b[38;5;28;01mfor\u001b[39;00m reward \u001b[38;5;129;01min\u001b[39;00m rewards] \u001b[38;5;28;01mfor\u001b[39;00m rewards \u001b[38;5;129;01min\u001b[39;00m \u001b[43mrewards_over_seeds\u001b[49m]\n\u001b[0;32m      2\u001b[0m df1 \u001b[38;5;241m=\u001b[39m pd\u001b[38;5;241m.\u001b[39mDataFrame(rewards_to_plot)\u001b[38;5;241m.\u001b[39mmelt()\n\u001b[0;32m      3\u001b[0m df1\u001b[38;5;241m.\u001b[39mrename(columns\u001b[38;5;241m=\u001b[39m{\u001b[38;5;124m\"\u001b[39m\u001b[38;5;124mvariable\u001b[39m\u001b[38;5;124m\"\u001b[39m: \u001b[38;5;124m\"\u001b[39m\u001b[38;5;124mepisodes\u001b[39m\u001b[38;5;124m\"\u001b[39m, \u001b[38;5;124m\"\u001b[39m\u001b[38;5;124mvalue\u001b[39m\u001b[38;5;124m\"\u001b[39m: \u001b[38;5;124m\"\u001b[39m\u001b[38;5;124mreward\u001b[39m\u001b[38;5;124m\"\u001b[39m}, inplace\u001b[38;5;241m=\u001b[39m\u001b[38;5;28;01mTrue\u001b[39;00m)\n",
      "\u001b[1;31mNameError\u001b[0m: name 'rewards_over_seeds' is not defined"
     ]
    }
   ],
   "source": [
    "rewards_to_plot = [[reward[0] for reward in rewards] for rewards in rewards_over_seeds]\n",
    "df1 = pd.DataFrame(rewards_to_plot).melt()\n",
    "df1.rename(columns={\"variable\": \"episodes\", \"value\": \"reward\"}, inplace=True)\n",
    "sns.set(style=\"darkgrid\", context=\"talk\", palette=\"rainbow\")\n",
    "sns.lineplot(x=\"episodes\", y=\"reward\", data=df1).set(\n",
    "    title=\"REINFORCE for InvertedPendulum-v4\"\n",
    ")\n",
    "plt.show()"
   ]
  },
  {
   "cell_type": "code",
   "execution_count": null,
   "id": "ea41c250-cb3b-4de3-abfd-decb295f8ce4",
   "metadata": {},
   "outputs": [],
   "source": []
  }
 ],
 "metadata": {
  "kernelspec": {
   "display_name": "myenv",
   "language": "python",
   "name": "myenv"
  },
  "language_info": {
   "codemirror_mode": {
    "name": "ipython",
    "version": 3
   },
   "file_extension": ".py",
   "mimetype": "text/x-python",
   "name": "python",
   "nbconvert_exporter": "python",
   "pygments_lexer": "ipython3",
   "version": "3.11.9"
  }
 },
 "nbformat": 4,
 "nbformat_minor": 5
}
