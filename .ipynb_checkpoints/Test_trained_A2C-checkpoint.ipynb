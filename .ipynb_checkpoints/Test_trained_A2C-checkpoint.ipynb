{
 "cells": [
  {
   "cell_type": "code",
   "execution_count": 1,
   "id": "cddcb634-323b-4807-8630-eced72fced17",
   "metadata": {},
   "outputs": [],
   "source": [
    "import gymnasium as gym\n",
    "from my_agents import A2C\n",
    "import torch\n",
    "import os"
   ]
  },
  {
   "cell_type": "code",
   "execution_count": 2,
   "id": "4160f32c-681e-4ea6-8222-e8c024ee0d4f",
   "metadata": {},
   "outputs": [
    {
     "data": {
      "text/plain": [
       "<All keys matched successfully>"
      ]
     },
     "execution_count": 2,
     "metadata": {},
     "output_type": "execute_result"
    }
   ],
   "source": [
    "# Dati env\n",
    "n_showcase_episode = 10\n",
    "N = 500\n",
    "\n",
    "#  Dati agente\n",
    "critic_lr = 0.005\n",
    "actor_lr = 0.001\n",
    "actor_weights_path = \"weights/actor_weights.h5\"\n",
    "critic_weights_path = \"weights/critc_weights.h5\"\n",
    "device = \"cpu\"\n",
    "\n",
    "# Init env\n",
    "env = gym.make(\"LunarLander-v2\", render_mode=\"human\", max_episode_steps=N)\n",
    "\n",
    "#  Ottengo info spazio delle osservazioni e spazio delle azzioni dall'env\n",
    "obs_shape = env.observation_space.shape[0]    \n",
    "action_shape = env.action_space.n\n",
    "\n",
    "#  Init agente\n",
    "agent = A2C(obs_shape, action_shape, device, critic_lr, actor_lr, n_envs=1)\n",
    "\n",
    "#  Utilizzo dati ottentuti in training nelle reti neurali definite nella classe A2C\n",
    "agent.actor.load_state_dict(torch.load(actor_weights_path, weights_only=True))\n",
    "agent.critic.load_state_dict(torch.load(critic_weights_path, weights_only=True))\n"
   ]
  },
  {
   "cell_type": "code",
   "execution_count": 3,
   "id": "27980aab-f391-461a-9251-0611eb7ddc12",
   "metadata": {},
   "outputs": [],
   "source": [
    "\"\"\" Start simulation \"\"\"\n",
    "for episode in range(n_showcase_episode):\n",
    "\n",
    "    if episode > 1:\n",
    "        env = gym.make(\"LunarLander-v2\", render_mode=\"human\", max_episode_steps=N)\n",
    "    \n",
    "    #  Start env\n",
    "    state, info = env.reset()\n",
    "    done = False\n",
    "    \n",
    "    while not done:\n",
    "        #  Disabilito aggiornamento pesi del modello\n",
    "        with torch.no_grad():\n",
    "            #  Seleziono l'azione in base allo stato corrente\n",
    "            action, _, _, _ = agent.select_action(state[None, :])\n",
    "            # Eseguo l'azione sull'env\n",
    "            state, reward, terminated, truncated, info = env.step(action.item())\n",
    "            #  Update flag\n",
    "            done = truncated or terminated\n",
    "env.close()\n"
   ]
  },
  {
   "cell_type": "code",
   "execution_count": null,
   "id": "3dcda075-340f-45a6-8c2d-6dbc3186bf26",
   "metadata": {},
   "outputs": [],
   "source": []
  }
 ],
 "metadata": {
  "kernelspec": {
   "display_name": "myenv",
   "language": "python",
   "name": "myenv"
  },
  "language_info": {
   "codemirror_mode": {
    "name": "ipython",
    "version": 3
   },
   "file_extension": ".py",
   "mimetype": "text/x-python",
   "name": "python",
   "nbconvert_exporter": "python",
   "pygments_lexer": "ipython3",
   "version": "3.11.9"
  }
 },
 "nbformat": 4,
 "nbformat_minor": 5
}
