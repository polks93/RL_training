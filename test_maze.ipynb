{
 "cells": [
  {
   "cell_type": "code",
   "execution_count": 1,
   "id": "ba368d2d-a785-4535-ac65-55829e021bcf",
   "metadata": {},
   "outputs": [],
   "source": [
    "import gymnasium as gym\n",
    "import gridworld"
   ]
  },
  {
   "cell_type": "code",
   "execution_count": 2,
   "id": "59f98250-1b02-4c98-a267-2c273047c0fc",
   "metadata": {},
   "outputs": [],
   "source": [
    "#  Generazione classe nev\n",
    "env = gym.make('Maze-v0', render_mode=\"human\")\n",
    "cum_reward = 0\n",
    "#  Init dell'amnbiente\n",
    "observation, info = env.reset()\n",
    "done = False"
   ]
  },
  {
   "cell_type": "code",
   "execution_count": 3,
   "id": "1171d58e-9b76-4637-b682-7283ec5e977d",
   "metadata": {},
   "outputs": [
    {
     "name": "stdout",
     "output_type": "stream",
     "text": [
      "Reward: -259\n"
     ]
    }
   ],
   "source": [
    "while not done:\n",
    "    # Azione generata in modo casuale\n",
    "    action = env.action_space.sample()  \n",
    "    # Esecuzione dell'azione nell'env\n",
    "    observation, reward, terminated, truncated, info = env.step(action)\n",
    "    cum_reward += reward\n",
    "    # Criterio di arresto\n",
    "    done = terminated or truncated\n",
    "\n",
    "print(\"Total reward: %d\" % cum_reward)\n",
    "\n",
    "#  Chiusura env\n",
    "env.close()"
   ]
  },
  {
   "cell_type": "code",
   "execution_count": null,
   "id": "712d20b2-c867-4262-8aa4-2d6bfb64fce5",
   "metadata": {},
   "outputs": [],
   "source": []
  }
 ],
 "metadata": {
  "kernelspec": {
   "display_name": "Python 3 (ipykernel)",
   "language": "python",
   "name": "python3"
  },
  "language_info": {
   "codemirror_mode": {
    "name": "ipython",
    "version": 3
   },
   "file_extension": ".py",
   "mimetype": "text/x-python",
   "name": "python",
   "nbconvert_exporter": "python",
   "pygments_lexer": "ipython3",
   "version": "3.12.4"
  }
 },
 "nbformat": 4,
 "nbformat_minor": 5
}
