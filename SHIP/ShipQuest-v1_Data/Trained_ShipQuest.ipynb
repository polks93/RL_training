{
 "cells": [
  {
   "cell_type": "code",
   "execution_count": 2,
   "id": "02e9005f-a782-4628-b275-db32c7e42c28",
   "metadata": {},
   "outputs": [],
   "source": [
    "import gymnasium as gym\n",
    "import my_package\n",
    "import torch\n",
    "import numpy as np\n",
    "import matplotlib.pyplot as plt\n",
    "\n",
    "from my_package import DQN, select_action\n",
    "\n",
    "device = torch.device(\"cuda\" if torch.cuda.is_available() else \"cpu\")"
   ]
  },
  {
   "cell_type": "code",
   "execution_count": 3,
   "id": "059a8ab6-df06-4b46-acde-64a37ea757cf",
   "metadata": {},
   "outputs": [
    {
     "name": "stdout",
     "output_type": "stream",
     "text": [
      "Loaded training results with following options:\n"
     ]
    },
    {
     "name": "stderr",
     "output_type": "stream",
     "text": [
      "C:\\Users\\paolo\\AppData\\Local\\Temp\\ipykernel_24824\\3364470956.py:1: FutureWarning: You are using `torch.load` with `weights_only=False` (the current default value), which uses the default pickle module implicitly. It is possible to construct malicious pickle data which will execute arbitrary code during unpickling (See https://github.com/pytorch/pytorch/blob/main/SECURITY.md#untrusted-models for more details). In a future release, the default value for `weights_only` will be flipped to `True`. This limits the functions that could be executed during unpickling. Arbitrary objects will no longer be allowed to be loaded via this mode unless they are explicitly allowlisted by the user via `torch.serialization.add_safe_globals`. We recommend you start setting `weights_only=True` for any use case where you don't have full control of the loaded file. Please open an issue on GitHub for any issues related to this experimental feature.\n",
      "  data = torch.load('model_with_data_ShipQuest-v1_500_ep.pth')\n"
     ]
    },
    {
     "data": {
      "text/plain": [
       "{'generate_random_ship': True,\n",
       " 'ship_perimeter': 12,\n",
       " 'workspace_safe_distance': 2,\n",
       " 'segments_lenght': 0.25,\n",
       " 'n_actions': 3,\n",
       " 'use_lateral_proximity_sensor': True,\n",
       " 'lateral_proximity_sensor_heading': [1.5707963267948966, -1.5707963267948966],\n",
       " 'draw_proximity_sensor': True,\n",
       " 'init_pose': None,\n",
       " 'agent_radius': 0.1,\n",
       " 'frontal_safe_distance': 0.25,\n",
       " 'lateral_safe_distance': 0.25,\n",
       " 'lidar_params': {'n_beams': 10, 'max_range': 1.0, 'FoV': 1.5707963267948966},\n",
       " 'draw_lidar': False,\n",
       " 'max_steps': 2000}"
      ]
     },
     "execution_count": 3,
     "metadata": {},
     "output_type": "execute_result"
    }
   ],
   "source": [
    "data = torch.load('model_with_data_ShipQuest-v1_500_ep.pth')\n",
    "state_dim = data['state_dim']\n",
    "action_dim = data['action_dim']\n",
    "hidden_layer_dim = data['hidden_layer_dim']\n",
    "training_ep = data['max_episodes']\n",
    "env_name = data['env_name']\n",
    "Options = data['Options']\n",
    "\n",
    "\n",
    "\"\"\" Init neural networks \"\"\"\n",
    "policy_net = DQN(\n",
    "    state_dim=state_dim,\n",
    "    action_dim=action_dim,\n",
    "    device=device,\n",
    "    hidden_dim=hidden_layer_dim,\n",
    ")\n",
    "\n",
    "policy_net.load_state_dict(data['model_state_dict'])\n",
    "print(f'Loaded training results with following options:')\n",
    "Options"
   ]
  },
  {
   "cell_type": "code",
   "execution_count": null,
   "id": "a7ec32f0-75e9-46e7-9f48-5fa649209712",
   "metadata": {},
   "outputs": [
    {
     "name": "stderr",
     "output_type": "stream",
     "text": [
      "C:\\Users\\paolo\\miniconda3\\envs\\gymenv\\Lib\\site-packages\\gymnasium\\envs\\registration.py:513: DeprecationWarning: \u001b[33mWARN: The environment ShipQuest-v1 is out of date. You should consider upgrading to version `v3`.\u001b[0m\n",
      "  logger.deprecation(\n"
     ]
    }
   ],
   "source": [
    "env = gym.make(env_name, Options=Options, render_mode='human')\n",
    "\n",
    "for ep in range(1):\n",
    "    state, info = env.reset()\n",
    "    done = False\n",
    "    total_reward = 0\n",
    "    while not done:\n",
    "        action = select_action(state, policy_net, 0, action_dim)\n",
    "        next_state, reward, terminated, truncated, info = env.step(action)\n",
    "        done = terminated or truncated\n",
    "        state = next_state\n",
    "        total_reward += reward\n",
    "    print('total reward: ' + str(total_reward))\n",
    "env.close()"
   ]
  },
  {
   "cell_type": "code",
   "execution_count": null,
   "id": "6c66880c-4513-4879-bafc-b80707a693f8",
   "metadata": {},
   "outputs": [],
   "source": [
    "total_rewards = data['total_rewards']\n",
    "coverage_per_ep = data['coverage_per_ep']\n",
    "len_episodes = data['len_episodes']\n",
    "\n",
    "\"\"\" Plot rewards \"\"\"\n",
    "window_size = 50\n",
    "ma_reward = np.convolve(total_rewards, np.ones(window_size) / window_size, mode='valid')\n",
    "plt.figure(figsize=(10, 6))\n",
    "plt.scatter(np.arange(len(total_rewards)), total_rewards)\n",
    "plt.plot(np.arange(window_size - 1, len(total_rewards)), ma_reward, color='red', label=f'Moving Average (Window={window_size})', linewidth=2)\n",
    "plt.title(f'Total Reward and Moving Average Over {training_ep} Episodes')\n",
    "plt.xlabel('Episode')\n",
    "plt.ylabel('Total Reward')\n",
    "plt.legend()\n",
    "plt.grid(True)\n",
    "plt.show()\n",
    "\n",
    "\"\"\" Plot coverage \"\"\"\n",
    "ma_coverage = np.convolve(coverage_per_ep, np.ones(window_size) / window_size, mode='valid')\n",
    "plt.figure(figsize=(10, 6))\n",
    "plt.scatter(np.arange(len(coverage_per_ep)), coverage_per_ep)\n",
    "plt.plot(np.arange(window_size - 1, len(coverage_per_ep)), ma_coverage, color='red', label=f'Moving Average (Window={window_size})', linewidth=2)\n",
    "plt.title(f'Coverage and Moving Average Over {training_ep} Episodes')\n",
    "plt.xlabel('Episode')\n",
    "plt.ylabel('Coverage %')\n",
    "plt.legend()\n",
    "plt.grid(True)\n",
    "plt.show()\n",
    "\n",
    "\"\"\" Plot episode duration \"\"\"\n",
    "ma_steps = np.convolve(len_episodes, np.ones(window_size) / window_size, mode='valid')\n",
    "plt.figure(figsize=(10, 6))\n",
    "plt.scatter(np.arange(len(len_episodes)), len_episodes)\n",
    "plt.plot(np.arange(window_size - 1, len(len_episodes)), ma_steps, color='red', label=f'Moving Average (Window={window_size})', linewidth=2)\n",
    "plt.title(f'Steps per Episode and Moving Average Over {training_ep} Episodes')\n",
    "plt.xlabel('Episode')\n",
    "plt.ylabel('Total steps')\n",
    "plt.legend()\n",
    "plt.grid(True)\n",
    "plt.show()"
   ]
  },
  {
   "cell_type": "code",
   "execution_count": null,
   "id": "ff7a84d6-532f-4740-bc18-19232b031821",
   "metadata": {},
   "outputs": [],
   "source": []
  }
 ],
 "metadata": {
  "kernelspec": {
   "display_name": "Python 3 (ipykernel)",
   "language": "python",
   "name": "python3"
  },
  "language_info": {
   "codemirror_mode": {
    "name": "ipython",
    "version": 3
   },
   "file_extension": ".py",
   "mimetype": "text/x-python",
   "name": "python",
   "nbconvert_exporter": "python",
   "pygments_lexer": "ipython3",
   "version": "3.12.4"
  }
 },
 "nbformat": 4,
 "nbformat_minor": 5
}
