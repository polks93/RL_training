{
 "cells": [
  {
   "cell_type": "code",
   "execution_count": 1,
   "id": "d00adc9c-dd98-4c76-ac12-f90878d71873",
   "metadata": {},
   "outputs": [],
   "source": [
    "import gymnasium as gym\n",
    "import gridworld\n",
    "import numpy as np\n",
    "\n",
    "def map_to_state(grid_position, grid_size)-> int:\n",
    "    return grid_position[0] * grid_size + grid_position[1] "
   ]
  },
  {
   "cell_type": "code",
   "execution_count": 2,
   "id": "02dacd8f-89eb-4637-b806-381ebb8dde1a",
   "metadata": {},
   "outputs": [
    {
     "name": "stdout",
     "output_type": "stream",
     "text": [
      "[[-58.896      -57.12858783 -52.81106613 -48.69686411]\n",
      " [-57.98843931 -54.65571914 -50.12688442 -42.66520468]\n",
      " [-54.25694444 -48.36759371 -39.64543269 -38.02702703]\n",
      " [-49.35993209 -44.22451994 -38.86956522   0.        ]]\n"
     ]
    }
   ],
   "source": [
    "grid_size = 4\n",
    "env = gym.make('GridWorld-v0', random_start=False, random_goal=False, size=grid_size)\n",
    "\n",
    "# Array di tutti gli stati\n",
    "states = np.array([], dtype=int)\n",
    "\n",
    "# Trasformo tutte le posizioni della griglia in stati\n",
    "for i in range(grid_size):\n",
    "    for j in range(grid_size):\n",
    "        states = np.append(states, map_to_state([i,j], grid_size))\n",
    "\n",
    "# Counter numero di visite\n",
    "N = np.full(states.shape, 0)\n",
    "\n",
    "# Somma di return associati allo stato\n",
    "S = np.full(states.shape, 0)\n",
    "\n",
    "# Value function\n",
    "V = np.full(states.shape, 0.0)\n",
    "\n",
    "n_episodes = 1000\n",
    "for episode in range(n_episodes):\n",
    "    observation, info = env.reset()\n",
    "    curr_cell = observation['agent']\n",
    "    curr_state = map_to_state(curr_cell, grid_size)\n",
    "    done = False\n",
    "    # Flag stato visitato\n",
    "    first_time = np.full(states.shape, True)\n",
    "    # Sequenza EP\n",
    "    state_seq = np.array([], dtype=int)\n",
    "    reward_seq = np.array([], dtype=int)\n",
    "    \n",
    "    while not done:\n",
    "        action = env.action_space.sample()\n",
    "        observation, reward, terminated, truncated, info = env.step(action)   \n",
    "\n",
    "        done = terminated or truncated\n",
    "        \n",
    "        if not done:\n",
    "            state_seq = np.append(state_seq, curr_state)\n",
    "            reward_seq = np.append(reward_seq, reward)\n",
    "\n",
    "        # Next state\n",
    "        curr_cell = observation['agent']\n",
    "        curr_state = map_to_state(curr_cell, grid_size)\n",
    "\n",
    "    for i in range(len(state_seq)):\n",
    "        s = state_seq[i]\n",
    "        if first_time[s]:\n",
    "            first_time[s] = False\n",
    "            N[s] += 1\n",
    "            Gt = sum(reward_seq[i::])\n",
    "            S[s] += Gt\n",
    "            V[s] = S[s]/N[s]\n",
    "        \n",
    "env.close()\n",
    "\n",
    "V_matrix = V.reshape((grid_size, grid_size))\n",
    "print(V_matrix)\n"
   ]
  },
  {
   "cell_type": "code",
   "execution_count": null,
   "id": "37a29b2f-c5bc-43b8-bd38-ab3048572345",
   "metadata": {},
   "outputs": [],
   "source": []
  }
 ],
 "metadata": {
  "kernelspec": {
   "display_name": "Python 3 (ipykernel)",
   "language": "python",
   "name": "python3"
  },
  "language_info": {
   "codemirror_mode": {
    "name": "ipython",
    "version": 3
   },
   "file_extension": ".py",
   "mimetype": "text/x-python",
   "name": "python",
   "nbconvert_exporter": "python",
   "pygments_lexer": "ipython3",
   "version": "3.12.4"
  }
 },
 "nbformat": 4,
 "nbformat_minor": 5
}
