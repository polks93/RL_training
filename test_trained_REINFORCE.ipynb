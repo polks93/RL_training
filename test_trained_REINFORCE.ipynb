{
 "cells": [
  {
   "cell_type": "code",
   "execution_count": null,
   "id": "71032671-d64f-489b-8d55-6217d4611004",
   "metadata": {},
   "outputs": [],
   "source": [
    "from __future__ import annotations\n",
    "\n",
    "import torch\n",
    "import gymnasium as gym\n",
    "from my_agents import REINFORCE"
   ]
  },
  {
   "cell_type": "code",
   "execution_count": null,
   "id": "046e4aeb-ecd2-4df9-bd15-d7c5449a4056",
   "metadata": {},
   "outputs": [],
   "source": [
    "# Init\n",
    "n_showcase_episodes = 1\n",
    "network_weights_path = 'REINFORCE/reinforce_policy_weights.pth'\n",
    "\n",
    "#  Genero env\n",
    "env = gym.make(\"InvertedPendulum-v4\", render_mode='human')\n",
    "obs_space_dims = env.observation_space.shape[0]\n",
    "action_space_dims = env.action_space.shape[0]\n",
    "\n",
    "# Genero agente\n",
    "agent = REINFORCE(obs_space_dims, action_space_dims)\n",
    "agent.net.load_state_dict(torch.load(network_weights_path, weights_only=True))"
   ]
  },
  {
   "cell_type": "code",
   "execution_count": null,
   "id": "2dcbdf6c-99a7-4c69-b9cf-fe8a717ab13f",
   "metadata": {},
   "outputs": [],
   "source": [
    "\"\"\" Start simulation \"\"\"\n",
    "for episode in range(n_showcase_episodes):\n",
    "\n",
    "        obs, info = env.reset()\n",
    "        done = False\n",
    "\n",
    "        while not done:\n",
    "            # Campiono azione\n",
    "            action = agent.sample_action(obs)\n",
    "\n",
    "            # Eseguo azione\n",
    "            obs, reward, terminated, truncated, info = env.step(action)\n",
    "            env.render()\n",
    "            done = terminated or truncated\n",
    "env.close()"
   ]
  },
  {
   "cell_type": "code",
   "execution_count": null,
   "id": "0c9cf189-4c00-423a-9354-b0cff131cb42",
   "metadata": {},
   "outputs": [],
   "source": []
  }
 ],
 "metadata": {
  "kernelspec": {
   "display_name": "Python 3 (ipykernel)",
   "language": "python",
   "name": "python3"
  },
  "language_info": {
   "codemirror_mode": {
    "name": "ipython",
    "version": 3
   },
   "file_extension": ".py",
   "mimetype": "text/x-python",
   "name": "python",
   "nbconvert_exporter": "python",
   "pygments_lexer": "ipython3",
   "version": "3.12.4"
  }
 },
 "nbformat": 4,
 "nbformat_minor": 5
}
